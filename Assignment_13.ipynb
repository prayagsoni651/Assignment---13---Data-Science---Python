{
 "cells": [
  {
   "cell_type": "code",
   "execution_count": 1,
   "metadata": {},
   "outputs": [
    {
     "data": {
      "text/plain": [
       "'\\n\\n\\nExcel spreadsheets and CSV (Comma-Separated Values) spreadsheets serve\\ndifferent purposes and have distinct advantages based on the specific\\nrequirements of a task. Here are some advantages of Excel spreadsheets\\nover CSV spreadsheets:\\n\\n\\n = Cell Formatting:\\n Excel allows you to apply various formatting options to individual cells, \\n such as bold, italic, colors, borders, and more. This can be important for \\n creating visually appealing and organized data.\\n\\n\\n = Formulas and Functions:\\n Excel supports a wide range of built-in formulas and functions that enable \\n you to perform calculations, aggregations, and analyses directly within \\n the spreadsheet. CSV files only store raw data without the ability to include formulas.\\n\\n\\n = Charts and Graphs:\\n Excel provides tools to create charts and graphs based on your data,\\n allowing for visual representation and analysis. This feature is not \\n available in a CSV file.\\n \\n \\n = Multiple Worksheets:\\n Excel allows you to work with multiple sheets within a single workbook. This\\n is useful for organizing and structuring data across different categories\\n or time periods.\\n \\n = Data Validation:\\n Excel provides features for data validation, allowing you to define rules and\\n constraints on cell entries. This helps maintain data accuracy and \\n consistency.\\n\\n\\n = Data Sorting and Filtering:\\n Excel supports easy sorting and filtering of data, making it convenient to\\n analyze and extract specific information. While you can sort and filter\\n data in a CSV file using external tools, Excel provides a user-friendly\\n interface for these operations.\\n \\n \\n'"
      ]
     },
     "execution_count": 1,
     "metadata": {},
     "output_type": "execute_result"
    }
   ],
   "source": [
    "# 1. What advantages do Excel spreadsheets have over CSV spreadsheets?\n",
    "\n",
    "'''\n",
    "\n",
    "\n",
    "Excel spreadsheets and CSV (Comma-Separated Values) spreadsheets serve\n",
    "different purposes and have distinct advantages based on the specific\n",
    "requirements of a task. Here are some advantages of Excel spreadsheets\n",
    "over CSV spreadsheets:\n",
    "\n",
    "\n",
    " = Cell Formatting:\n",
    " Excel allows you to apply various formatting options to individual cells, \n",
    " such as bold, italic, colors, borders, and more. This can be important for \n",
    " creating visually appealing and organized data.\n",
    "\n",
    "\n",
    " = Formulas and Functions:\n",
    " Excel supports a wide range of built-in formulas and functions that enable \n",
    " you to perform calculations, aggregations, and analyses directly within \n",
    " the spreadsheet. CSV files only store raw data without the ability to include formulas.\n",
    "\n",
    "\n",
    " = Charts and Graphs:\n",
    " Excel provides tools to create charts and graphs based on your data,\n",
    " allowing for visual representation and analysis. This feature is not \n",
    " available in a CSV file.\n",
    " \n",
    " \n",
    " = Multiple Worksheets:\n",
    " Excel allows you to work with multiple sheets within a single workbook. This\n",
    " is useful for organizing and structuring data across different categories\n",
    " or time periods.\n",
    " \n",
    " = Data Validation:\n",
    " Excel provides features for data validation, allowing you to define rules and\n",
    " constraints on cell entries. This helps maintain data accuracy and \n",
    " consistency.\n",
    "\n",
    "\n",
    " = Data Sorting and Filtering:\n",
    " Excel supports easy sorting and filtering of data, making it convenient to\n",
    " analyze and extract specific information. While you can sort and filter\n",
    " data in a CSV file using external tools, Excel provides a user-friendly\n",
    " interface for these operations.\n",
    " \n",
    " \n",
    "'''"
   ]
  },
  {
   "cell_type": "code",
   "execution_count": null,
   "metadata": {},
   "outputs": [],
   "source": [
    "\n",
    "# 2.What do you pass to csv.reader() and csv.writer() to create reader \n",
    "# and writer objects?\n",
    "\n",
    "'''\n",
    "In Python's csv module, you pass a file object to the csv.reader() and \n",
    "csv.writer() functions to create reader and writer objects, respectively.\n",
    "The file object represents the CSV file that you want to read from or \n",
    "write to.\n",
    "\n",
    "Here's how you typically use csv.reader() and csv.writer():\n",
    "\n",
    "Creating a csv.reader object:\n",
    "\n",
    "'''\n",
    "\n",
    "import csv\n",
    "\n",
    "# Open the CSV file in read mode\n",
    "with open('example.csv', 'r') as file:\n",
    "    # Create a csv.reader object\n",
    "    csv_reader = csv.reader(file)\n",
    "\n",
    "    # Now 'csv_reader' can be used to iterate over the rows in the CSV file\n",
    "    for row in csv_reader:\n",
    "        print(row)\n",
    "        \n",
    "        \n",
    "'''\n",
    "\n",
    "In this example, 'example.csv' is the name of the CSV file you want to \n",
    "read. The csv.reader() function takes a file object (opened in read mode) \n",
    "and returns a reader object\n",
    "\n",
    "'''\n"
   ]
  },
  {
   "cell_type": "code",
   "execution_count": 4,
   "metadata": {},
   "outputs": [],
   "source": [
    " # Creating a csv.writer object:\n",
    "        \n",
    "import csv\n",
    "\n",
    "# Open or create a new CSV file in write mode\n",
    "with open('output.csv', 'w', newline='') as file:\n",
    "    # Create a csv.writer object\n",
    "    csv_writer = csv.writer(file)\n",
    "\n",
    "    # Now 'csv_writer' can be used to write rows to the CSV file\n",
    "    csv_writer.writerow(['Name', 'Age', 'City'])\n",
    "    csv_writer.writerow(['John', 30, 'New York'])\n",
    "    csv_writer.writerow(['Alice', 25, 'San Francisco'])"
   ]
  },
  {
   "cell_type": "code",
   "execution_count": null,
   "metadata": {},
   "outputs": [],
   "source": [
    "# 3. What modes do File objects for reader and writer\n",
    "# objects need to be opened in?\n",
    "\n",
    "\n",
    "'''\n",
    "When working with reader and writer objects in Python's csv module, you \n",
    "need to open the file objects in specific modes\n",
    "\n",
    "\n",
    "For csv.reader:\n",
    "Open the file in read mode ('r').\n",
    "If the file is a text file, you can use 'rt' (text mode) as well.\n",
    "\n",
    "'''\n",
    "\n",
    "import csv\n",
    "\n",
    "# Open the CSV file in read mode\n",
    "with open('example.csv', 'r') as file:\n",
    "    csv_reader = csv.reader(file)\n",
    "    for row in csv_reader:\n",
    "        print(row)\n"
   ]
  },
  {
   "cell_type": "code",
   "execution_count": 7,
   "metadata": {},
   "outputs": [],
   "source": [
    "'''\n",
    "For csv.writer:\n",
    "Open the file in write mode ('w').\n",
    "If you want to append to an existing file, open it in append mode ('a')\n",
    "'''\n",
    "\n",
    "import csv\n",
    "\n",
    "# Open or create a new CSV file in write mode\n",
    "with open('output.csv', 'w', newline='') as file:\n",
    "    csv_writer = csv.writer(file)\n",
    "    csv_writer.writerow(['Name', 'Age', 'City'])\n",
    "    csv_writer.writerow(['John', 30, 'New York'])\n",
    "    csv_writer.writerow(['Alice', 25, 'San Francisco'])\n"
   ]
  },
  {
   "cell_type": "code",
   "execution_count": 8,
   "metadata": {},
   "outputs": [
    {
     "data": {
      "text/plain": [
       "'\\nIn this example, the writerow method is used to write three rows to \\nthe CSV file. Each row is represented by a list of values.\\n\\n\\n\\nYou can use this method multiple times to write successive rows to\\nthe CSV file, and each time, it takes a list as an argument representing \\nthe values in that row\\n\\n'"
      ]
     },
     "execution_count": 8,
     "metadata": {},
     "output_type": "execute_result"
    }
   ],
   "source": [
    "# 4. What method takes a list argument and writes it to a CSV file?\n",
    "\n",
    "'''\n",
    "\n",
    "The writerow method of a csv.writer object is used to write a list of values \n",
    "to a CSV file. This method takes a list as an argument and writes the \n",
    "elements of the list as a single row in the CSV file.\n",
    "\n",
    "'''\n",
    "\n",
    "import csv\n",
    "\n",
    "# Open or create a new CSV file in write mode\n",
    "with open('output.csv', 'w', newline='') as file:\n",
    "    csv_writer = csv.writer(file)\n",
    "\n",
    "    # Writing a list as a row to the CSV file\n",
    "    csv_writer.writerow(['Name', 'Age', 'City'])\n",
    "    csv_writer.writerow(['John', 30, 'New York'])\n",
    "    csv_writer.writerow(['Alice', 25, 'San Francisco'])\n",
    "\n",
    "'''\n",
    "In this example, the writerow method is used to write three rows to \n",
    "the CSV file. Each row is represented by a list of values.\n",
    "\n",
    "\n",
    "\n",
    "You can use this method multiple times to write successive rows to\n",
    "the CSV file, and each time, it takes a list as an argument representing \n",
    "the values in that row\n",
    "\n",
    "'''"
   ]
  },
  {
   "cell_type": "code",
   "execution_count": 11,
   "metadata": {},
   "outputs": [],
   "source": [
    "# 5. What do the keyword arguments delimiter and line terminator do?\n",
    "\n",
    "'''\n",
    "\n",
    "In the context of the csv.writer object in Python's csv module, the delimiter\n",
    "and lineterminator are optional keyword arguments that control how the \n",
    "values are separated and how the rows are terminated in the CSV file.\n",
    "'''\n",
    "\n",
    "'''\n",
    "delimiter:\n",
    "The delimiter specifies the character used to separate fields (values) in \n",
    "a CSV file. The default delimiter is a comma (,), but you can use this \n",
    "argument to specify a different character.\n",
    "Example:\n",
    "\n",
    "'''\n",
    "\n",
    "import csv\n",
    "\n",
    "with open('output.csv', 'w', newline='') as file:\n",
    "    csv_writer = csv.writer(file, delimiter='\\t')  # Use tab as the delimiter\n",
    "    csv_writer.writerow(['Name', 'Age', 'City'])\n",
    "    csv_writer.writerow(['John', 30, 'New York'])\n",
    "    csv_writer.writerow(['Alice', 25, 'San Francisco'])\n",
    "\n",
    "'''\n",
    "In this example, the delimiter='\\t' argument sets the delimiter\n",
    "to a tab character\n",
    "'''\n",
    "'''\n",
    "\n",
    "lineterminator:\n",
    "\n",
    "The lineterminator specifies the character sequence used to terminate \n",
    "lines (rows) in the CSV file. The default line terminator is the \n",
    "newline character ('\\n')\n",
    "\n",
    "'''\n",
    "import csv\n",
    "\n",
    "with open('output.csv', 'w', newline='') as file:\n",
    "    csv_writer = csv.writer(file, lineterminator='\\r\\n')  # Use Windows-style line endings\n",
    "    csv_writer.writerow(['Name', 'Age', 'City'])\n",
    "    csv_writer.writerow(['John', 30, 'New York'])\n",
    "    csv_writer.writerow(['Alice', 25, 'San Francisco'])\n",
    "    \n",
    "    \n",
    "    '''\n",
    "    In this example, the lineterminator='\\r\\n' argument sets the line \n",
    "    terminator to a Windows-style carriage return and newline sequence.\n",
    "    \n",
    "    '''\n"
   ]
  },
  {
   "cell_type": "code",
   "execution_count": 13,
   "metadata": {},
   "outputs": [
    {
     "name": "stdout",
     "output_type": "stream",
     "text": [
      "{'name': 'John', 'age': 30, 'city': 'New York'}\n"
     ]
    },
    {
     "data": {
      "text/plain": [
       "'\\n\\nIn this example, the json.loads function is applied to the json_data string\\n, and it returns a Python dictionary (python_data). The resulting Python\\ndata structure mirrors the structure of the original JSON data.\\n\\nIf the JSON data is more complex, such as containing nested objects or\\narrays, json.loads will handle it accordingly, creating the corresponding\\nPython data structure.\\n\\n'"
      ]
     },
     "execution_count": 13,
     "metadata": {},
     "output_type": "execute_result"
    }
   ],
   "source": [
    "# 6. What function takes a string of JSON data and returns\n",
    "# a Python data structure?\n",
    "\n",
    "\n",
    "'''\n",
    "\n",
    "The json.loads function in Python is used to parse a string containing JSON \n",
    "(JavaScript Object Notation) data and convert it into a Python data\n",
    "structure. The term \"loads\" stands for \"load string.\"\n",
    "\n",
    "Here's an example:\n",
    "\n",
    "'''\n",
    "\n",
    "import json\n",
    "\n",
    "# JSON data as a string\n",
    "json_data = '{\"name\": \"John\", \"age\": 30, \"city\": \"New York\"}'\n",
    "\n",
    "# Use json.loads to convert the string to a Python data structure (dictionary in this case)\n",
    "python_data = json.loads(json_data)\n",
    "\n",
    "# Print the resulting Python data structure\n",
    "print(python_data)\n",
    "\n",
    "\n",
    "'''\n",
    "\n",
    "In this example, the json.loads function is applied to the json_data string\n",
    ", and it returns a Python dictionary (python_data). The resulting Python\n",
    "data structure mirrors the structure of the original JSON data.\n",
    "\n",
    "If the JSON data is more complex, such as containing nested objects or\n",
    "arrays, json.loads will handle it accordingly, creating the corresponding\n",
    "Python data structure.\n",
    "\n",
    "'''"
   ]
  },
  {
   "cell_type": "code",
   "execution_count": 14,
   "metadata": {},
   "outputs": [
    {
     "name": "stdout",
     "output_type": "stream",
     "text": [
      "{\"name\": \"John\", \"age\": 30, \"city\": \"New York\"}\n"
     ]
    },
    {
     "data": {
      "text/plain": [
       "'\\n\\nIn this example, the json.dumps function is applied to the python_data \\ndictionary, and it returns a JSON-formatted string (json_data). The \\nresulting string represents the JSON equivalent of the Python data structure.\\n\\nIf the Python data structure contains nested objects or arrays, json.dumps\\nwill handle them accordingly in the resulting JSON string.\\n\\n'"
      ]
     },
     "execution_count": 14,
     "metadata": {},
     "output_type": "execute_result"
    }
   ],
   "source": [
    "# 7. What function takes a Python data structure and returns a string\n",
    "# of JSON data?\n",
    "\n",
    "\n",
    "'''\n",
    "\n",
    "The json.dumps function in Python is used to serialize a Python data structure\n",
    "into a JSON-formatted string. The term \"dumps\" stands for \"dump string.\"\n",
    "\n",
    "'''\n",
    "import json\n",
    "\n",
    "# Python data structure (dictionary in this case)\n",
    "python_data = {'name': 'John', 'age': 30, 'city': 'New York'}\n",
    "\n",
    "# Use json.dumps to convert the Python data structure to a JSON-formatted string\n",
    "json_data = json.dumps(python_data)\n",
    "\n",
    "# Print the resulting JSON-formatted string\n",
    "print(json_data)\n",
    "\n",
    "\n",
    "\n",
    "'''\n",
    "\n",
    "In this example, the json.dumps function is applied to the python_data \n",
    "dictionary, and it returns a JSON-formatted string (json_data). The \n",
    "resulting string represents the JSON equivalent of the Python data structure.\n",
    "\n",
    "If the Python data structure contains nested objects or arrays, json.dumps\n",
    "will handle them accordingly in the resulting JSON string.\n",
    "\n",
    "'''\n",
    "\n"
   ]
  },
  {
   "cell_type": "code",
   "execution_count": null,
   "metadata": {},
   "outputs": [],
   "source": []
  }
 ],
 "metadata": {
  "kernelspec": {
   "display_name": "base",
   "language": "python",
   "name": "python3"
  },
  "language_info": {
   "codemirror_mode": {
    "name": "ipython",
    "version": 3
   },
   "file_extension": ".py",
   "mimetype": "text/x-python",
   "name": "python",
   "nbconvert_exporter": "python",
   "pygments_lexer": "ipython3",
   "version": "3.11.4"
  }
 },
 "nbformat": 4,
 "nbformat_minor": 2
}
